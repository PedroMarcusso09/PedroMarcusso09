{
  "nbformat": 4,
  "nbformat_minor": 0,
  "metadata": {
    "colab": {
      "name": "Web Scraping.ipynb",
      "provenance": [],
      "authorship_tag": "ABX9TyPX0upz1rrzDQoiQ/gbWxyr",
      "include_colab_link": true
    },
    "kernelspec": {
      "name": "python3",
      "display_name": "Python 3"
    },
    "language_info": {
      "name": "python"
    }
  },
  "cells": [
    {
      "cell_type": "markdown",
      "metadata": {
        "id": "view-in-github",
        "colab_type": "text"
      },
      "source": [
        "<a href=\"https://colab.research.google.com/github/PedroMarcusso09/PedroMarcusso09/blob/main/Web_Scraping.ipynb\" target=\"_parent\"><img src=\"https://colab.research.google.com/assets/colab-badge.svg\" alt=\"Open In Colab\"/></a>"
      ]
    },
    {
      "cell_type": "markdown",
      "source": [
        "# Tarefa: Calculadora de Aluguel - Coleta de Dados"
      ],
      "metadata": {
        "id": "H5WEbZiZIsH7"
      }
    },
    {
      "cell_type": "code",
      "execution_count": 68,
      "metadata": {
        "id": "hHon1jwjn54Z"
      },
      "outputs": [],
      "source": [
        "# Bibliotecas \n",
        "import re # padrão regex\n",
        "import requests # coletar dados HTML\n",
        "from bs4 import BeautifulSoup # explorar HTML\n",
        "import pandas as pd # manipular dados\n",
        "from time import sleep"
      ]
    },
    {
      "cell_type": "code",
      "source": [
        "# Variavéis\n",
        "url = ('https://imoveis.mercadolivre.com.br/apartamentos/aluguel/rio-de-janeiro-zona')\n",
        "zonas = ['norte', 'sul', 'leste', 'oeste']\n",
        "paginas = ['', '_Desde_49', '_Desde_97', '_Desde_145', '_Desde_193', '_Desde_241']\n",
        "# Regex\n",
        "re_quarto = '\\| (.*) quarto'\n",
        "re_area = '> (.*) m²'\n",
        "re_quarto_area_ausente = \"> (.*) quarto\""
      ],
      "metadata": {
        "id": "B8IpzPJUdgfl"
      },
      "execution_count": 69,
      "outputs": []
    },
    {
      "cell_type": "code",
      "source": [
        "def coleta_dados(url, zona):\n",
        "  # Coletar HTML e o seu conteúdo\n",
        "  req = requests.get(url).content\n",
        "  sopa = BeautifulSoup(req)\n",
        "  precos = sopa.find_all('span', {'class': 'price-tag-fraction'})\n",
        "  areas_quartos = sopa.find_all('ul', {'class': 'ui-search-card-attributes ui-search-item__group__element'})\n",
        "  \n",
        "  # Criação de listas e tabelas\n",
        "  lista_precos = []\n",
        "  lista_areas_quartos = []\n",
        "  lista_zonas = []\n",
        "  for preco, area_quarto in zip(precos, areas_quartos):\n",
        "    lista_precos.append(preco.text)\n",
        "    lista_areas_quartos.append(area_quarto.text)\n",
        "    lista_zonas.append(zona)\n",
        "    \n",
        "  dados = {'aluguel': lista_precos,\n",
        "  'area_quarto': lista_areas_quartos,\n",
        "  'zona': lista_zonas}\n",
        "    \n",
        "  df = pd.DataFrame(dados)\n",
        "\n",
        "  return df"
      ],
      "metadata": {
        "id": "8_14LgCldpjy"
      },
      "execution_count": 67,
      "outputs": []
    },
    {
      "cell_type": "code",
      "source": [
        "lista_dfs = []\n",
        "\n",
        "for zona in zonas:\n",
        "  for pagina in paginas:\n",
        "    url = f'https://imoveis.mercadolivre.com.br/apartamentos/aluguel/rio-de-janeiro-zona-{zona}/{pagina}'\n",
        "    print('Coletando dados de', url)\n",
        "    df = coleta_dados(url, zona) \n",
        "    lista_dfs.append(df)\n",
        "    sleep(1)"
      ],
      "metadata": {
        "colab": {
          "base_uri": "https://localhost:8080/"
        },
        "id": "Fob8QWUhdwbS",
        "outputId": "54fef6b2-a559-4ce1-c7ff-3249df78d9f8"
      },
      "execution_count": 64,
      "outputs": [
        {
          "output_type": "stream",
          "name": "stdout",
          "text": [
            "Coletando dados de https://imoveis.mercadolivre.com.br/apartamentos/aluguel/rio-de-janeiro-zona-norte/\n",
            "Coletando dados de https://imoveis.mercadolivre.com.br/apartamentos/aluguel/rio-de-janeiro-zona-norte/_Desde_49\n",
            "Coletando dados de https://imoveis.mercadolivre.com.br/apartamentos/aluguel/rio-de-janeiro-zona-norte/_Desde_97\n",
            "Coletando dados de https://imoveis.mercadolivre.com.br/apartamentos/aluguel/rio-de-janeiro-zona-norte/_Desde_145\n",
            "Coletando dados de https://imoveis.mercadolivre.com.br/apartamentos/aluguel/rio-de-janeiro-zona-norte/_Desde_193\n",
            "Coletando dados de https://imoveis.mercadolivre.com.br/apartamentos/aluguel/rio-de-janeiro-zona-norte/_Desde_241\n",
            "Coletando dados de https://imoveis.mercadolivre.com.br/apartamentos/aluguel/rio-de-janeiro-zona-sul/\n",
            "Coletando dados de https://imoveis.mercadolivre.com.br/apartamentos/aluguel/rio-de-janeiro-zona-sul/_Desde_49\n",
            "Coletando dados de https://imoveis.mercadolivre.com.br/apartamentos/aluguel/rio-de-janeiro-zona-sul/_Desde_97\n",
            "Coletando dados de https://imoveis.mercadolivre.com.br/apartamentos/aluguel/rio-de-janeiro-zona-sul/_Desde_145\n",
            "Coletando dados de https://imoveis.mercadolivre.com.br/apartamentos/aluguel/rio-de-janeiro-zona-sul/_Desde_193\n",
            "Coletando dados de https://imoveis.mercadolivre.com.br/apartamentos/aluguel/rio-de-janeiro-zona-sul/_Desde_241\n",
            "Coletando dados de https://imoveis.mercadolivre.com.br/apartamentos/aluguel/rio-de-janeiro-zona-leste/\n",
            "Coletando dados de https://imoveis.mercadolivre.com.br/apartamentos/aluguel/rio-de-janeiro-zona-leste/_Desde_49\n",
            "Coletando dados de https://imoveis.mercadolivre.com.br/apartamentos/aluguel/rio-de-janeiro-zona-leste/_Desde_97\n",
            "Coletando dados de https://imoveis.mercadolivre.com.br/apartamentos/aluguel/rio-de-janeiro-zona-leste/_Desde_145\n",
            "Coletando dados de https://imoveis.mercadolivre.com.br/apartamentos/aluguel/rio-de-janeiro-zona-leste/_Desde_193\n",
            "Coletando dados de https://imoveis.mercadolivre.com.br/apartamentos/aluguel/rio-de-janeiro-zona-leste/_Desde_241\n",
            "Coletando dados de https://imoveis.mercadolivre.com.br/apartamentos/aluguel/rio-de-janeiro-zona-oeste/\n",
            "Coletando dados de https://imoveis.mercadolivre.com.br/apartamentos/aluguel/rio-de-janeiro-zona-oeste/_Desde_49\n",
            "Coletando dados de https://imoveis.mercadolivre.com.br/apartamentos/aluguel/rio-de-janeiro-zona-oeste/_Desde_97\n",
            "Coletando dados de https://imoveis.mercadolivre.com.br/apartamentos/aluguel/rio-de-janeiro-zona-oeste/_Desde_145\n",
            "Coletando dados de https://imoveis.mercadolivre.com.br/apartamentos/aluguel/rio-de-janeiro-zona-oeste/_Desde_193\n",
            "Coletando dados de https://imoveis.mercadolivre.com.br/apartamentos/aluguel/rio-de-janeiro-zona-oeste/_Desde_241\n"
          ]
        }
      ]
    },
    {
      "cell_type": "code",
      "source": [
        "df_imoveis = pd.concat(lista_dfs, axis=0)\n",
        "df_imoveis"
      ],
      "metadata": {
        "colab": {
          "base_uri": "https://localhost:8080/",
          "height": 424
        },
        "id": "IffpOfareGi1",
        "outputId": "471bccb9-dae3-44de-a85d-b09586fae62b"
      },
      "execution_count": 65,
      "outputs": [
        {
          "output_type": "execute_result",
          "data": {
            "text/plain": [
              "   aluguel                  area_quarto   zona\n",
              "0    1.490   62 m² construídos2 quartos  norte\n",
              "1    6.800  138 m² construídos3 quartos  norte\n",
              "2    1.400   75 m² construídos2 quartos  norte\n",
              "3      650   43 m² construídos2 quartos  norte\n",
              "4    1.200   48 m² construídos2 quartos  norte\n",
              "..     ...                          ...    ...\n",
              "43   1.800   47 m² construídos2 quartos  oeste\n",
              "44   2.500   68 m² construídos2 quartos  oeste\n",
              "45   1.100   55 m² construídos2 quartos  oeste\n",
              "46   1.550   60 m² construídos2 quartos  oeste\n",
              "47     900   44 m² construídos2 quartos  oeste\n",
              "\n",
              "[960 rows x 3 columns]"
            ],
            "text/html": [
              "\n",
              "  <div id=\"df-d687bb1f-8b71-421f-9fb5-1396f9cb8908\">\n",
              "    <div class=\"colab-df-container\">\n",
              "      <div>\n",
              "<style scoped>\n",
              "    .dataframe tbody tr th:only-of-type {\n",
              "        vertical-align: middle;\n",
              "    }\n",
              "\n",
              "    .dataframe tbody tr th {\n",
              "        vertical-align: top;\n",
              "    }\n",
              "\n",
              "    .dataframe thead th {\n",
              "        text-align: right;\n",
              "    }\n",
              "</style>\n",
              "<table border=\"1\" class=\"dataframe\">\n",
              "  <thead>\n",
              "    <tr style=\"text-align: right;\">\n",
              "      <th></th>\n",
              "      <th>aluguel</th>\n",
              "      <th>area_quarto</th>\n",
              "      <th>zona</th>\n",
              "    </tr>\n",
              "  </thead>\n",
              "  <tbody>\n",
              "    <tr>\n",
              "      <th>0</th>\n",
              "      <td>1.490</td>\n",
              "      <td>62 m² construídos2 quartos</td>\n",
              "      <td>norte</td>\n",
              "    </tr>\n",
              "    <tr>\n",
              "      <th>1</th>\n",
              "      <td>6.800</td>\n",
              "      <td>138 m² construídos3 quartos</td>\n",
              "      <td>norte</td>\n",
              "    </tr>\n",
              "    <tr>\n",
              "      <th>2</th>\n",
              "      <td>1.400</td>\n",
              "      <td>75 m² construídos2 quartos</td>\n",
              "      <td>norte</td>\n",
              "    </tr>\n",
              "    <tr>\n",
              "      <th>3</th>\n",
              "      <td>650</td>\n",
              "      <td>43 m² construídos2 quartos</td>\n",
              "      <td>norte</td>\n",
              "    </tr>\n",
              "    <tr>\n",
              "      <th>4</th>\n",
              "      <td>1.200</td>\n",
              "      <td>48 m² construídos2 quartos</td>\n",
              "      <td>norte</td>\n",
              "    </tr>\n",
              "    <tr>\n",
              "      <th>...</th>\n",
              "      <td>...</td>\n",
              "      <td>...</td>\n",
              "      <td>...</td>\n",
              "    </tr>\n",
              "    <tr>\n",
              "      <th>43</th>\n",
              "      <td>1.800</td>\n",
              "      <td>47 m² construídos2 quartos</td>\n",
              "      <td>oeste</td>\n",
              "    </tr>\n",
              "    <tr>\n",
              "      <th>44</th>\n",
              "      <td>2.500</td>\n",
              "      <td>68 m² construídos2 quartos</td>\n",
              "      <td>oeste</td>\n",
              "    </tr>\n",
              "    <tr>\n",
              "      <th>45</th>\n",
              "      <td>1.100</td>\n",
              "      <td>55 m² construídos2 quartos</td>\n",
              "      <td>oeste</td>\n",
              "    </tr>\n",
              "    <tr>\n",
              "      <th>46</th>\n",
              "      <td>1.550</td>\n",
              "      <td>60 m² construídos2 quartos</td>\n",
              "      <td>oeste</td>\n",
              "    </tr>\n",
              "    <tr>\n",
              "      <th>47</th>\n",
              "      <td>900</td>\n",
              "      <td>44 m² construídos2 quartos</td>\n",
              "      <td>oeste</td>\n",
              "    </tr>\n",
              "  </tbody>\n",
              "</table>\n",
              "<p>960 rows × 3 columns</p>\n",
              "</div>\n",
              "      <button class=\"colab-df-convert\" onclick=\"convertToInteractive('df-d687bb1f-8b71-421f-9fb5-1396f9cb8908')\"\n",
              "              title=\"Convert this dataframe to an interactive table.\"\n",
              "              style=\"display:none;\">\n",
              "        \n",
              "  <svg xmlns=\"http://www.w3.org/2000/svg\" height=\"24px\"viewBox=\"0 0 24 24\"\n",
              "       width=\"24px\">\n",
              "    <path d=\"M0 0h24v24H0V0z\" fill=\"none\"/>\n",
              "    <path d=\"M18.56 5.44l.94 2.06.94-2.06 2.06-.94-2.06-.94-.94-2.06-.94 2.06-2.06.94zm-11 1L8.5 8.5l.94-2.06 2.06-.94-2.06-.94L8.5 2.5l-.94 2.06-2.06.94zm10 10l.94 2.06.94-2.06 2.06-.94-2.06-.94-.94-2.06-.94 2.06-2.06.94z\"/><path d=\"M17.41 7.96l-1.37-1.37c-.4-.4-.92-.59-1.43-.59-.52 0-1.04.2-1.43.59L10.3 9.45l-7.72 7.72c-.78.78-.78 2.05 0 2.83L4 21.41c.39.39.9.59 1.41.59.51 0 1.02-.2 1.41-.59l7.78-7.78 2.81-2.81c.8-.78.8-2.07 0-2.86zM5.41 20L4 18.59l7.72-7.72 1.47 1.35L5.41 20z\"/>\n",
              "  </svg>\n",
              "      </button>\n",
              "      \n",
              "  <style>\n",
              "    .colab-df-container {\n",
              "      display:flex;\n",
              "      flex-wrap:wrap;\n",
              "      gap: 12px;\n",
              "    }\n",
              "\n",
              "    .colab-df-convert {\n",
              "      background-color: #E8F0FE;\n",
              "      border: none;\n",
              "      border-radius: 50%;\n",
              "      cursor: pointer;\n",
              "      display: none;\n",
              "      fill: #1967D2;\n",
              "      height: 32px;\n",
              "      padding: 0 0 0 0;\n",
              "      width: 32px;\n",
              "    }\n",
              "\n",
              "    .colab-df-convert:hover {\n",
              "      background-color: #E2EBFA;\n",
              "      box-shadow: 0px 1px 2px rgba(60, 64, 67, 0.3), 0px 1px 3px 1px rgba(60, 64, 67, 0.15);\n",
              "      fill: #174EA6;\n",
              "    }\n",
              "\n",
              "    [theme=dark] .colab-df-convert {\n",
              "      background-color: #3B4455;\n",
              "      fill: #D2E3FC;\n",
              "    }\n",
              "\n",
              "    [theme=dark] .colab-df-convert:hover {\n",
              "      background-color: #434B5C;\n",
              "      box-shadow: 0px 1px 3px 1px rgba(0, 0, 0, 0.15);\n",
              "      filter: drop-shadow(0px 1px 2px rgba(0, 0, 0, 0.3));\n",
              "      fill: #FFFFFF;\n",
              "    }\n",
              "  </style>\n",
              "\n",
              "      <script>\n",
              "        const buttonEl =\n",
              "          document.querySelector('#df-d687bb1f-8b71-421f-9fb5-1396f9cb8908 button.colab-df-convert');\n",
              "        buttonEl.style.display =\n",
              "          google.colab.kernel.accessAllowed ? 'block' : 'none';\n",
              "\n",
              "        async function convertToInteractive(key) {\n",
              "          const element = document.querySelector('#df-d687bb1f-8b71-421f-9fb5-1396f9cb8908');\n",
              "          const dataTable =\n",
              "            await google.colab.kernel.invokeFunction('convertToInteractive',\n",
              "                                                     [key], {});\n",
              "          if (!dataTable) return;\n",
              "\n",
              "          const docLinkHtml = 'Like what you see? Visit the ' +\n",
              "            '<a target=\"_blank\" href=https://colab.research.google.com/notebooks/data_table.ipynb>data table notebook</a>'\n",
              "            + ' to learn more about interactive tables.';\n",
              "          element.innerHTML = '';\n",
              "          dataTable['output_type'] = 'display_data';\n",
              "          await google.colab.output.renderOutput(dataTable, element);\n",
              "          const docLink = document.createElement('div');\n",
              "          docLink.innerHTML = docLinkHtml;\n",
              "          element.appendChild(docLink);\n",
              "        }\n",
              "      </script>\n",
              "    </div>\n",
              "  </div>\n",
              "  "
            ]
          },
          "metadata": {},
          "execution_count": 65
        }
      ]
    }
  ]
}